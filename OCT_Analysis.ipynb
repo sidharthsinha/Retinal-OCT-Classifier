{
  "nbformat": 4,
  "nbformat_minor": 0,
  "metadata": {
    "colab": {
      "name": "OCT Analysis.ipynb",
      "provenance": [],
      "collapsed_sections": [],
      "mount_file_id": "1uQkVAkVAVT8D57iBuMIC7l9KK5pS-xfD",
      "authorship_tag": "ABX9TyMx3E9j2zjoo88nfmfrJESh",
      "include_colab_link": true
    },
    "kernelspec": {
      "name": "python3",
      "display_name": "Python 3"
    },
    "language_info": {
      "name": "python"
    },
    "accelerator": "GPU"
  },
  "cells": [
    {
      "cell_type": "markdown",
      "metadata": {
        "id": "view-in-github",
        "colab_type": "text"
      },
      "source": [
        "<a href=\"https://colab.research.google.com/github/sidharthsinha/Retinal-OCT-Classifier/blob/main/OCT_Analysis.ipynb\" target=\"_parent\"><img src=\"https://colab.research.google.com/assets/colab-badge.svg\" alt=\"Open In Colab\"/></a>"
      ]
    },
    {
      "cell_type": "code",
      "metadata": {
        "id": "_3SOVy3NQGRt"
      },
      "source": [
        "import torch\n",
        "import torch.nn as nn"
      ],
      "execution_count": 1,
      "outputs": []
    },
    {
      "cell_type": "code",
      "metadata": {
        "id": "wygUEvWPWFOA"
      },
      "source": [
        "! pip install kaggle\n",
        "! mkdir ~/.kaggle\n",
        "! cp kaggle.json ~/.kaggle/\n",
        "! chmod 600 ~/.kaggle/kaggle.json\n",
        "! kaggle datasets download paultimothymooney/kermany2018\n",
        "! unzip kermany2018.zip"
      ],
      "execution_count": null,
      "outputs": []
    },
    {
      "cell_type": "code",
      "metadata": {
        "id": "h-VYgg2eQzeS"
      },
      "source": [
        "import torch.nn.functional as F\n",
        "\n",
        "def accuracy(outputs, labels):\n",
        "    max_probs, preds = torch.max(outputs, dim=1)\n",
        "    return torch.tensor(torch.sum(preds == labels).item() / len(preds))\n",
        "\n",
        "class imageclassification(nn.Module):\n",
        "  def training_step(self, batch):\n",
        "    images, labels = batch\n",
        "    out = self(images)\n",
        "    loss = F.cross_entropy(out, labels)\n",
        "    return loss\n",
        "  def validation_step(self, batch):\n",
        "    images, labels = batch\n",
        "    out = self(images)\n",
        "    loss = F.cross_entropy(out, labels)\n",
        "    acc = accuracy(out, labels)\n",
        "    return {'val_loss':loss, 'val_acc':acc}\n",
        "  def validation_epoch_end(self, outputs):\n",
        "    batch_losses = [x['val_loss'] for x in outputs]\n",
        "    epoch_loss = torch.stack(batch_losses).mean()   # Combine losses\n",
        "    batch_accs = [x['val_acc'] for x in outputs]\n",
        "    epoch_acc = torch.stack(batch_accs).mean()      # Combine accuracies\n",
        "    return {'val_loss': epoch_loss.item(), 'val_acc': epoch_acc.item()}\n",
        "  def epoch_end(self, epoch, result):\n",
        "    print(\"Epoch [{}], train_loss: {:.4f}, val_loss: {:.4f}, val_acc: {:.4f}\".format(epoch, result['train_loss'], result['val_loss'], result['val_acc']))\n",
        "class octnnmodel(imageclassification):\n",
        "  def __init__(self):\n",
        "    super().__init__()\n",
        "    self.network = nn.Sequential(\n",
        "            nn.Conv2d(3, 32, kernel_size=3, padding=1),\n",
        "            nn.ReLU(),\n",
        "            nn.Conv2d(32, 64, kernel_size=3, stride=1, padding=1),\n",
        "            nn.ReLU(),\n",
        "            nn.MaxPool2d(2, 2), # output: 64 x 16 x 16\n",
        "\n",
        "            nn.Conv2d(64, 128, kernel_size=3, stride=1, padding=1),\n",
        "            nn.ReLU(),\n",
        "            nn.Conv2d(128, 128, kernel_size=3, stride=1, padding=1),\n",
        "            nn.ReLU(),\n",
        "            nn.MaxPool2d(2, 2), # output: 128 x 8 x 8\n",
        "\n",
        "            nn.Conv2d(128, 256, kernel_size=3, stride=1, padding=1),\n",
        "            nn.ReLU(),\n",
        "            nn.Conv2d(256, 256, kernel_size=3, stride=1, padding=1),\n",
        "            nn.ReLU(),\n",
        "            nn.MaxPool2d(2, 2), # output: 256 x 4 x 4\n",
        "\n",
        "            nn.Flatten(), \n",
        "            nn.Linear(256*4*4, 1024),\n",
        "            nn.ReLU(),\n",
        "            nn.Linear(1024, 512),\n",
        "            nn.ReLU(),\n",
        "            nn.Linear(512, 10))\n",
        "  def forward(self, xb):\n",
        "    return self.network(xb)\n",
        "@torch.no_grad()\n",
        "def evaluate(model, val_loader):\n",
        "    model.eval()\n",
        "    outputs = [model.validation_step(batch) for batch in val_loader]\n",
        "    return model.validation_epoch_end(outputs)\n",
        "\n",
        "def fit(epochs, lr, model, train_loader, val_loader, opt_func=torch.optim.SGD):\n",
        "    history = []\n",
        "    optimizer = opt_func(model.parameters(), lr)\n",
        "    for epoch in range(epochs):\n",
        "        # Training Phase \n",
        "        model.train()\n",
        "        train_losses = []\n",
        "        for batch in train_loader:\n",
        "            loss = model.training_step(batch)\n",
        "            train_losses.append(loss)\n",
        "            loss.backward()\n",
        "            optimizer.step()\n",
        "            optimizer.zero_grad()\n",
        "        # Validation phase\n",
        "        result = evaluate(model, val_loader)\n",
        "        result['train_loss'] = torch.stack(train_losses).mean().item()\n",
        "        model.epoch_end(epoch, result)\n",
        "        history.append(result)\n",
        "    return history"
      ],
      "execution_count": 3,
      "outputs": []
    },
    {
      "cell_type": "code",
      "metadata": {
        "colab": {
          "base_uri": "https://localhost:8080/"
        },
        "id": "7LJlvjP_QrAM",
        "outputId": "4a42a9cf-acdd-40d0-a73f-783683361916"
      },
      "source": [
        "model = octnnmodel()\n",
        "path = F\"/content/drive/MyDrive/classifier.pt\"\n",
        "model.load_state_dict(torch.load(path))"
      ],
      "execution_count": 4,
      "outputs": [
        {
          "output_type": "execute_result",
          "data": {
            "text/plain": [
              "<All keys matched successfully>"
            ]
          },
          "metadata": {},
          "execution_count": 4
        }
      ]
    },
    {
      "cell_type": "code",
      "metadata": {
        "id": "MrR6Mw0mSmCt"
      },
      "source": [
        "image_path = \"/content/OCT2017 /\"\n",
        "import torchvision\n",
        "import torchvision.transforms as transforms\n",
        "import os\n",
        "mean = [0.224, 0.224, 0.224]\n",
        "std = [0.1551, 0.1551, 0.1551]\n",
        "\n",
        "input_size = 32\n",
        "\n",
        "batch_size = 16\n",
        "num_epochs = 10\n",
        "\n",
        "train_transform = transforms.Compose([\n",
        "      transforms.ToTensor(),\n",
        "      transforms.Resize((input_size, input_size)),\n",
        "      transforms.Normalize((mean), (std))                              \n",
        "])\n",
        "\n",
        "val_transform = transforms.Compose([\n",
        "      transforms.ToTensor(),\n",
        "      transforms.Resize((input_size, input_size)),\n",
        "      transforms.Normalize((mean), (std))\n",
        "])\n",
        "\n",
        "test_transform = transforms.Compose([\n",
        "      transforms.ToTensor(),\n",
        "      transforms.Resize((input_size, input_size)),\n",
        "      transforms.Normalize((mean), (std))\n",
        "])\n",
        "\n",
        "train_ds = torchvision.datasets.ImageFolder(os.path.join(image_path, 'train'), train_transform)\n",
        "val_ds = torchvision.datasets.ImageFolder(os.path.join(image_path, 'val'), val_transform)\n",
        "test_ds = torchvision.datasets.ImageFolder(os.path.join(image_path, 'test'), test_transform)"
      ],
      "execution_count": 12,
      "outputs": []
    },
    {
      "cell_type": "code",
      "metadata": {
        "colab": {
          "base_uri": "https://localhost:8080/",
          "height": 402
        },
        "id": "XLlBWrEIWz0V",
        "outputId": "8c5f011a-74e6-4d4f-c287-3629a436e730"
      },
      "source": [
        "from sklearn.metrics import confusion_matrix\n",
        "from sklearn.metrics import precision_score\n",
        "from sklearn.metrics import recall_score\n",
        "test_dl = torch.utils.data.DataLoader(test_ds, batch_size*2, num_workers=4, pin_memory=True)\n",
        "acc = []\n",
        "import numpy as np\n",
        "p = []\n",
        "l = []\n",
        "for batch in test_dl:\n",
        "  images, labels = batch\n",
        "  for x in labels:\n",
        "    l.append(int(x))\n",
        "  output =  model(images)\n",
        "  max_probs, preds = torch.max(output, dim=1)\n",
        "  accu = accuracy(output, labels)\n",
        "  acc.append(accu)\n",
        "  for x in preds:\n",
        "    p.append(int(x))\n",
        "import seaborn as sns\n",
        "cm = confusion_matrix(l, p)\n",
        "import matplotlib.pyplot as plt\n",
        "plt.title('Confusion Matrix')\n",
        "sns.heatmap(cm, \n",
        "    annot=True, \n",
        "    xticklabels=[\"CNV\", \"DME\", \"DRUSEN\", \"NORMAL\"], \n",
        "    yticklabels=[\"CNV\", \"DME\", \"DRUSEN\", \"NORMAL\"],\n",
        "    cmap='Greens', \n",
        "    fmt='g'\n",
        ")\n",
        "plt.xlabel('Predicted Values')\n",
        "plt.ylabel('Actual Values')\n",
        "plt.show()\n",
        "print( \"Accuracy :\"+str( sum(acc)/len(acc) ) )\n",
        "print(\"Precision\"+str(precision_score(l, p, average=None)))\n",
        "print(\"Recall\"+str(recall_score(l, p, average=None)))\n"
      ],
      "execution_count": 75,
      "outputs": [
        {
          "output_type": "stream",
          "name": "stderr",
          "text": [
            "/usr/local/lib/python3.7/dist-packages/torch/utils/data/dataloader.py:481: UserWarning: This DataLoader will create 4 worker processes in total. Our suggested max number of worker in current system is 2, which is smaller than what this DataLoader is going to create. Please be aware that excessive worker creation might get DataLoader running slow or even freeze, lower the worker number to avoid potential slowness/freeze if necessary.\n",
            "  cpuset_checked))\n"
          ]
        },
        {
          "output_type": "display_data",
          "data": {
            "image/png": "[encoded data removed]",
            "text/plain": [
              "<Figure size 432x288 with 2 Axes>"
            ]
          },
          "metadata": {
            "needs_background": "light"
          }
        },
        {
          "output_type": "stream",
          "name": "stdout",
          "text": [
            "Accuracy :tensor(0.9577)\n",
            "Precision[0.90298507 0.98268398 0.98222222 0.96721311]\n",
            "Recall[1.         0.93801653 0.91322314 0.97520661]\n"
          ]
        }
      ]
    }
  ]
}